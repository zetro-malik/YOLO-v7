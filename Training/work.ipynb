{
  "cells": [
    {
      "cell_type": "code",
      "execution_count": null,
      "metadata": {
        "colab": {
          "base_uri": "https://localhost:8080/"
        },
        "id": "ELqgbe_I7v1j",
        "outputId": "86009362-d7c3-432a-88ce-41c4979423e3"
      },
      "outputs": [
        {
          "output_type": "stream",
          "name": "stdout",
          "text": [
            "Tue Mar  7 10:47:56 2023       \n",
            "+-----------------------------------------------------------------------------+\n",
            "| NVIDIA-SMI 525.85.12    Driver Version: 525.85.12    CUDA Version: 12.0     |\n",
            "|-------------------------------+----------------------+----------------------+\n",
            "| GPU  Name        Persistence-M| Bus-Id        Disp.A | Volatile Uncorr. ECC |\n",
            "| Fan  Temp  Perf  Pwr:Usage/Cap|         Memory-Usage | GPU-Util  Compute M. |\n",
            "|                               |                      |               MIG M. |\n",
            "|===============================+======================+======================|\n",
            "|   0  Tesla T4            Off  | 00000000:00:04.0 Off |                    0 |\n",
            "| N/A   46C    P0    26W /  70W |      0MiB / 15360MiB |      0%      Default |\n",
            "|                               |                      |                  N/A |\n",
            "+-------------------------------+----------------------+----------------------+\n",
            "                                                                               \n",
            "+-----------------------------------------------------------------------------+\n",
            "| Processes:                                                                  |\n",
            "|  GPU   GI   CI        PID   Type   Process name                  GPU Memory |\n",
            "|        ID   ID                                                   Usage      |\n",
            "|=============================================================================|\n",
            "|  No running processes found                                                 |\n",
            "+-----------------------------------------------------------------------------+\n"
          ]
        }
      ],
      "source": [
        "!nvidia-smi"
      ]
    },
    {
      "cell_type": "markdown",
      "source": [
        "# Colab notebook CODE"
      ],
      "metadata": {
        "id": "ectmG7aFiBnL"
      }
    },
    {
      "cell_type": "markdown",
      "source": [
        "# Clone YOLO v7"
      ],
      "metadata": {
        "id": "qu0Jyghih2ac"
      }
    },
    {
      "cell_type": "code",
      "execution_count": null,
      "metadata": {
        "id": "Zqs_MnPq717j"
      },
      "outputs": [],
      "source": [
        "# Download YOLOv7 repository and install requirements\n",
        "!git clone https://github.com/WongKinYiu/yolov7\n",
        "%cd yolov7\n",
        "!pip install -r requirements.txt"
      ]
    },
    {
      "cell_type": "markdown",
      "source": [
        "# Import your dataset"
      ],
      "metadata": {
        "id": "wZgiaBiJh-wJ"
      }
    },
    {
      "cell_type": "code",
      "execution_count": null,
      "metadata": {
        "id": "Cj1yfED776yX"
      },
      "outputs": [],
      "source": [
        "!pip install roboflow\n",
        "\n",
        "from roboflow import Roboflow\n",
        "rf = Roboflow(api_key=\"your_key\")\n",
        "project = rf.workspace(\"biit-i0job\").project(\"classroom-assitant\")\n",
        "dataset = project.version(1).download(\"yolov7\")"
      ]
    },
    {
      "cell_type": "markdown",
      "source": [
        "# Downloading yolov7_training.pt file for custom training"
      ],
      "metadata": {
        "id": "lGvHFMBUiIh3"
      }
    },
    {
      "cell_type": "code",
      "execution_count": null,
      "metadata": {
        "id": "yq7QOxw78AIp"
      },
      "outputs": [],
      "source": [
        "# download COCO starting checkpoint\n",
        "%cd /content/yolov7\n",
        "!wget https://github.com/WongKinYiu/yolov7/releases/download/v0.1/yolov7_training.pt"
      ]
    },
    {
      "cell_type": "markdown",
      "source": [
        "#Training on custom dataset\n",
        "### Making predictions and saving weigths in Run/train/exp"
      ],
      "metadata": {
        "id": "8qCN9MAYia7g"
      }
    },
    {
      "cell_type": "code",
      "execution_count": null,
      "metadata": {
        "id": "ynPzQXig8IX9"
      },
      "outputs": [],
      "source": [
        "\n",
        "!python train.py --batch 16 --epochs 50 --data /content/yolov7/DATASET__PATH/data.yaml --weights 'yolov7_training.pt' --device 0"
      ]
    },
    {
      "cell_type": "markdown",
      "source": [
        "# Making predictions and saving in Run/detect/exp/"
      ],
      "metadata": {
        "id": "EHUeJS6nikDv"
      }
    },
    {
      "cell_type": "code",
      "execution_count": null,
      "metadata": {
        "id": "wmNi69Oh8KlB"
      },
      "outputs": [],
      "source": [
        "\n",
        "!python detect.py --weights runs/train/exp2/weights/best.pt --conf 0.5 --source /content/yolov7/classroom-assitant-3/test/images"
      ]
    },
    {
      "cell_type": "markdown",
      "source": [
        "# Iterating through saved images"
      ],
      "metadata": {
        "id": "tfMBeZNMi_I_"
      }
    },
    {
      "cell_type": "code",
      "execution_count": null,
      "metadata": {
        "id": "FE1ykEpL8sij"
      },
      "outputs": [],
      "source": [
        "#display inference on ALL test images\n",
        "\n",
        "import glob\n",
        "from IPython.display import Image, display\n",
        "\n",
        "i = 0\n",
        "limit = 10000 # max images to print\n",
        "for imageName in glob.glob('/content/yolov7/runs/detect/exp/*.jpg'): #assuming JPG\n",
        "    if i < limit:\n",
        "      display(Image(filename=imageName))\n",
        "      print(\"\\n\")\n",
        "    i = i + 1"
      ]
    },
    {
      "cell_type": "markdown",
      "source": [
        "# Making zip of weights file"
      ],
      "metadata": {
        "id": "2vQklAacjMRX"
      }
    },
    {
      "cell_type": "code",
      "execution_count": null,
      "metadata": {
        "id": "6clUcANy8xjT"
      },
      "outputs": [],
      "source": [
        "!zip -r log1.zip /content/yolov7/runs/train/exp/weights/best.pt"
      ]
    },
    {
      "cell_type": "markdown",
      "source": [
        "# Downloading weights in personal computer for further use..."
      ],
      "metadata": {
        "id": "f7qsFutWja6R"
      }
    },
    {
      "cell_type": "code",
      "execution_count": null,
      "metadata": {
        "id": "yME0OLc43Zeh"
      },
      "outputs": [],
      "source": [
        "from google.colab import files\n",
        "files.download('log1.zip') "
      ]
    }
  ],
  "metadata": {
    "accelerator": "GPU",
    "colab": {
      "provenance": []
    },
    "gpuClass": "standard",
    "kernelspec": {
      "display_name": "Python 3",
      "name": "python3"
    },
    "language_info": {
      "name": "python"
    }
  },
  "nbformat": 4,
  "nbformat_minor": 0
}